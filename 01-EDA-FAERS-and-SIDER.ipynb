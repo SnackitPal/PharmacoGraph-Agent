{
 "cells": [
  {
   "cell_type": "code",
   "execution_count": 8,
   "id": "ccd438e7-273e-462f-bcd0-4171d69d5c1a",
   "metadata": {},
   "outputs": [
    {
     "name": "stdout",
     "output_type": "stream",
     "text": [
      "--- Defining Paths ---\n",
      "--- Loading SIDER data ---\n",
      "--- Loading FAERS data (DEMO, DRUG, REAC) ---\n",
      "--- Merging FAERS drug and reaction tables ---\n",
      "\n",
      "--- SETUP COMPLETE ---\n",
      "The following DataFrames are now loaded and ready:\n",
      "-> sider_df: (153663, 4)\n",
      "-> faers_df (merged): (28680588, 3)\n"
     ]
    }
   ],
   "source": [
    "# ===================================================================\n",
    "# CELL #1: MASTER SETUP - IMPORTS AND DATA LOADING\n",
    "# ===================================================================\n",
    "# Run this cell once to load all necessary libraries and data sources.\n",
    "\n",
    "import pandas as pd\n",
    "from pathlib import Path\n",
    "\n",
    "# --- 1. DEFINE PATHS (from project root) ---\n",
    "print(\"--- Defining Paths ---\")\n",
    "DATA_DIR = Path('data')\n",
    "sider_effects_path = DATA_DIR / 'sider_side_effects.tsv'\n",
    "faers_demo_path = DATA_DIR / 'ASCII' / 'DEMO25Q1.txt'\n",
    "faers_drug_path = DATA_DIR / 'ASCII' / 'DRUG25Q1.txt'\n",
    "faers_reac_path = DATA_DIR / 'ASCII' / 'REAC25Q1.txt'\n",
    "\n",
    "# --- 2. LOAD SIDER DATA ---\n",
    "print(\"--- Loading SIDER data ---\")\n",
    "sider_df = pd.read_csv(sider_effects_path, sep='\\t')\n",
    "\n",
    "# --- 3. LOAD FAERS DATA ---\n",
    "# Add low_memory=False to suppress the DtypeWarning you were seeing.\n",
    "print(\"--- Loading FAERS data (DEMO, DRUG, REAC) ---\")\n",
    "demo_df = pd.read_csv(faers_demo_path, sep='$', low_memory=False)\n",
    "drug_df = pd.read_csv(faers_drug_path, sep='$', low_memory=False)\n",
    "reac_df = pd.read_csv(faers_reac_path, sep='$', low_memory=False)\n",
    "\n",
    "# --- 4. MERGE FAERS DATA ---\n",
    "print(\"--- Merging FAERS drug and reaction tables ---\")\n",
    "faers_df = pd.merge(drug_df[['primaryid', 'drugname']], reac_df[['primaryid', 'pt']], on='primaryid', how='inner')\n",
    "faers_df = faers_df.rename(columns={'pt': 'reaction'}) # Rename 'pt' to be more intuitive\n",
    "\n",
    "print(\"\\n--- SETUP COMPLETE ---\")\n",
    "print(\"The following DataFrames are now loaded and ready:\")\n",
    "print(f\"-> sider_df: {sider_df.shape}\")\n",
    "print(f\"-> faers_df (merged): {faers_df.shape}\")"
   ]
  },
  {
   "cell_type": "code",
   "execution_count": 9,
   "id": "5581196f-c0a0-4e48-83b6-0baaef91830a",
   "metadata": {},
   "outputs": [
    {
     "name": "stdout",
     "output_type": "stream",
     "text": [
      "--- Top 20 Most Reported Drugs in this FAERS Quarter ---\n"
     ]
    },
    {
     "data": {
      "text/plain": [
       "drugname\n",
       "METHOTREXATE                  826261\n",
       "ACTEMRA                       816221\n",
       "PREDNISONE                    713210\n",
       "SULFASALAZINE                 682950\n",
       "INFLECTRA                     556065\n",
       "RITUXIMAB                     551234\n",
       "FOLIC ACID                    479323\n",
       "ORENCIA                       376654\n",
       "CETIRIZINE HYDROCHLORIDE      375811\n",
       "DESOXIMETASONE                360008\n",
       "LEFLUNOMIDE                   320688\n",
       "HYDROXYCHLOROQUINE            304785\n",
       "ENBREL                        296521\n",
       "ACETAMINOPHEN                 289337\n",
       "XELJANZ                       273617\n",
       "PHTHALYLSULFATHIAZOLE         273483\n",
       "HYDROXYCHLOROQUINE SULFATE    263774\n",
       "REMICADE                      248126\n",
       "HUMIRA                        236191\n",
       "INFLIXIMAB                    225687\n",
       "Name: count, dtype: int64"
      ]
     },
     "metadata": {},
     "output_type": "display_data"
    },
    {
     "name": "stdout",
     "output_type": "stream",
     "text": [
      "\n",
      "--- Top 20 Most Reported Reactions in this FAERS Quarter ---\n"
     ]
    },
    {
     "data": {
      "text/plain": [
       "reaction\n",
       "Off label use                           485487\n",
       "Fatigue                                 320398\n",
       "Drug ineffective                        299551\n",
       "Headache                                273294\n",
       "Nausea                                  268077\n",
       "Pain                                    265779\n",
       "Condition aggravated                    245591\n",
       "Diarrhoea                               221515\n",
       "Dyspnoea                                218373\n",
       "Arthralgia                              214127\n",
       "Rash                                    212299\n",
       "Vomiting                                207063\n",
       "Malaise                                 190405\n",
       "Pneumonia                               183353\n",
       "Pyrexia                                 182739\n",
       "Hypertension                            174119\n",
       "Intentional product use issue           172925\n",
       "Product use in unapproved indication    171113\n",
       "Pain in extremity                       168309\n",
       "Abdominal discomfort                    163935\n",
       "Name: count, dtype: int64"
      ]
     },
     "metadata": {},
     "output_type": "display_data"
    }
   ],
   "source": [
    "# --- 2. Analyze Most Common Drugs and Reactions in FAERS ---\n",
    "print(\"--- Top 20 Most Reported Drugs in this FAERS Quarter ---\")\n",
    "display(faers_df['drugname'].value_counts().head(20))\n",
    "\n",
    "print(\"\\n--- Top 20 Most Reported Reactions in this FAERS Quarter ---\")\n",
    "display(faers_df['reaction'].value_counts().head(20))"
   ]
  },
  {
   "cell_type": "code",
   "execution_count": 10,
   "id": "a3d540c3-0f55-4955-b3fe-a2eee33a7c7e",
   "metadata": {},
   "outputs": [
    {
     "name": "stdout",
     "output_type": "stream",
     "text": [
      "Creating a 'ground truth' set from 5734 unique SIDER terms...\n",
      "Original FAERS data shape: (28680588, 3)\n",
      "Cleaned FAERS data shape: (22222741, 3)\n",
      "\n",
      "--- Top 20 Reactions after SIDER Filtering ---\n"
     ]
    },
    {
     "data": {
      "text/plain": [
       "reaction\n",
       "Fatigue                 320398\n",
       "Drug ineffective        299551\n",
       "Headache                273294\n",
       "Nausea                  268077\n",
       "Pain                    265779\n",
       "Condition aggravated    245591\n",
       "Diarrhoea               221515\n",
       "Dyspnoea                218373\n",
       "Arthralgia              214127\n",
       "Rash                    212299\n",
       "Vomiting                207063\n",
       "Malaise                 190405\n",
       "Pneumonia               183353\n",
       "Hypertension            174119\n",
       "Pain in extremity       168309\n",
       "Abdominal discomfort    163935\n",
       "Weight increased        162552\n",
       "Nasopharyngitis         162038\n",
       "Dizziness               162037\n",
       "Asthenia                161568\n",
       "Name: count, dtype: int64"
      ]
     },
     "metadata": {},
     "output_type": "display_data"
    }
   ],
   "source": [
    "# --- 3. Filter FAERS Reactions Using SIDER as a Ground Truth ---\n",
    "print(f\"Creating a 'ground truth' set from {len(sider_df['side_effect_name'].unique())} unique SIDER terms...\")\n",
    "known_side_effects = set(sider_df['side_effect_name'].str.lower())\n",
    "\n",
    "print(f\"Original FAERS data shape: {faers_df.shape}\")\n",
    "faers_cleaned_df = faers_df[faers_df['reaction'].str.lower().isin(known_side_effects)].copy()\n",
    "print(f\"Cleaned FAERS data shape: {faers_cleaned_df.shape}\")\n",
    "\n",
    "print(\"\\n--- Top 20 Reactions after SIDER Filtering ---\")\n",
    "display(faers_cleaned_df['reaction'].value_counts().head(20))"
   ]
  },
  {
   "cell_type": "code",
   "execution_count": 11,
   "id": "53a60173-8b39-4f32-8f03-cd4c765cb042",
   "metadata": {},
   "outputs": [
    {
     "name": "stdout",
     "output_type": "stream",
     "text": [
      "Shape before blocklist filtering: (22222741, 3)\n",
      "Shape after blocklist filtering: (21647695, 3)\n"
     ]
    }
   ],
   "source": [
    "# --- 4. Reaction Cleaning via Manual Blocklist ---\n",
    "reaction_blocklist = [\n",
    "    'off label use',\n",
    "    'drug ineffective',\n",
    "    'condition aggravated',\n",
    "    'product use in unapproved indication',\n",
    "    'intentional product use issue',\n",
    "    'disease progression',\n",
    "    'malignant neoplasm progression'\n",
    "]\n",
    "print(f\"Shape before blocklist filtering: {faers_cleaned_df.shape}\")\n",
    "faers_cleaned_df = faers_cleaned_df[~faers_cleaned_df['reaction'].str.lower().isin(reaction_blocklist)].copy()\n",
    "print(f\"Shape after blocklist filtering: {faers_cleaned_df.shape}\")"
   ]
  },
  {
   "cell_type": "code",
   "execution_count": 12,
   "id": "60fc7f46-33f8-4648-8fc3-8cbcded96c4c",
   "metadata": {},
   "outputs": [
    {
     "name": "stdout",
     "output_type": "stream",
     "text": [
      "--- Building a foundational synonym dictionary from our existing SIDER files ---\n",
      "Successfully built synonym dictionary with 1249 entries.\n",
      "\n",
      "--- Testing the dictionary ---\n",
      "Mapping for 'SULFASALAZINE': None\n",
      "Mapping for 'METHOTREXATE': DB00563\n",
      "Mapping for 'ACETAMINOPHEN': DB00316\n"
     ]
    }
   ],
   "source": [
    "# --- 5. Build Synonym Dictionary from Existing SIDER Data ---\n",
    "print(\"--- Building a foundational synonym dictionary from our existing SIDER files ---\")\n",
    "\n",
    "# --- Load Indications Data ---\n",
    "indications_path = DATA_DIR / 'sider_indications.tsv'\n",
    "indications_df = pd.read_csv(indications_path, sep='\\t', header=None)\n",
    "indications_df = indications_df.rename(columns={0: 'drugbank_id', 1: 'indication_name'})\n",
    "\n",
    "# --- Combine All Known Names ---\n",
    "sider_names = sider_df[['drugbank_id', 'drugbank_name']].rename(columns={'drugbank_name': 'name'})\n",
    "indications_names = indications_df[['drugbank_id', 'indication_name']].rename(columns={'indication_name': 'name'})\n",
    "master_mapping_df = pd.concat([sider_names, indications_names]).drop_duplicates().dropna()\n",
    "\n",
    "# --- Build the Dictionary ---\n",
    "drug_synonyms = dict(zip(master_mapping_df['name'].str.upper(), master_mapping_df['drugbank_id']))\n",
    "print(f\"Successfully built synonym dictionary with {len(drug_synonyms)} entries.\")\n",
    "\n",
    "# --- Verification Test ---\n",
    "print(\"\\n--- Testing the dictionary ---\")\n",
    "print(f\"Mapping for 'SULFASALAZINE': {drug_synonyms.get('SULFASALAZINE')}\")\n",
    "print(f\"Mapping for 'METHOTREXATE': {drug_synonyms.get('METHOTREXATE')}\")\n",
    "print(f\"Mapping for 'ACETAMINOPHEN': {drug_synonyms.get('ACETAMINOPHEN')}\")"
   ]
  },
  {
   "cell_type": "code",
   "execution_count": 13,
   "id": "151b18c7-c4c4-4362-821b-3703bf9af81f",
   "metadata": {},
   "outputs": [
    {
     "name": "stdout",
     "output_type": "stream",
     "text": [
      "Applying synonym map to 21647695 rows...\n",
      "Successfully mapped 6688695 of 21647695 entries (30.90%).\n",
      "Shape of DataFrame after dropping unmapped drugs: (6688695, 4)\n"
     ]
    },
    {
     "data": {
      "text/html": [
       "<div>\n",
       "<style scoped>\n",
       "    .dataframe tbody tr th:only-of-type {\n",
       "        vertical-align: middle;\n",
       "    }\n",
       "\n",
       "    .dataframe tbody tr th {\n",
       "        vertical-align: top;\n",
       "    }\n",
       "\n",
       "    .dataframe thead th {\n",
       "        text-align: right;\n",
       "    }\n",
       "</style>\n",
       "<table border=\"1\" class=\"dataframe\">\n",
       "  <thead>\n",
       "    <tr style=\"text-align: right;\">\n",
       "      <th></th>\n",
       "      <th>primaryid</th>\n",
       "      <th>drugname</th>\n",
       "      <th>reaction</th>\n",
       "      <th>drugbank_id</th>\n",
       "    </tr>\n",
       "  </thead>\n",
       "  <tbody>\n",
       "    <tr>\n",
       "      <th>0</th>\n",
       "      <td>100294532</td>\n",
       "      <td>LETROZOLE</td>\n",
       "      <td>Asthenia</td>\n",
       "      <td>DB01006</td>\n",
       "    </tr>\n",
       "    <tr>\n",
       "      <th>2</th>\n",
       "      <td>100294532</td>\n",
       "      <td>LETROZOLE</td>\n",
       "      <td>Palmar-plantar erythrodysaesthesia syndrome</td>\n",
       "      <td>DB01006</td>\n",
       "    </tr>\n",
       "    <tr>\n",
       "      <th>3</th>\n",
       "      <td>100294532</td>\n",
       "      <td>LETROZOLE</td>\n",
       "      <td>Metastases to liver</td>\n",
       "      <td>DB01006</td>\n",
       "    </tr>\n",
       "    <tr>\n",
       "      <th>6</th>\n",
       "      <td>100294532</td>\n",
       "      <td>LAPATINIB</td>\n",
       "      <td>Asthenia</td>\n",
       "      <td>DB01259</td>\n",
       "    </tr>\n",
       "    <tr>\n",
       "      <th>8</th>\n",
       "      <td>100294532</td>\n",
       "      <td>LAPATINIB</td>\n",
       "      <td>Palmar-plantar erythrodysaesthesia syndrome</td>\n",
       "      <td>DB01259</td>\n",
       "    </tr>\n",
       "  </tbody>\n",
       "</table>\n",
       "</div>"
      ],
      "text/plain": [
       "   primaryid   drugname                                     reaction  \\\n",
       "0  100294532  LETROZOLE                                     Asthenia   \n",
       "2  100294532  LETROZOLE  Palmar-plantar erythrodysaesthesia syndrome   \n",
       "3  100294532  LETROZOLE                          Metastases to liver   \n",
       "6  100294532  LAPATINIB                                     Asthenia   \n",
       "8  100294532  LAPATINIB  Palmar-plantar erythrodysaesthesia syndrome   \n",
       "\n",
       "  drugbank_id  \n",
       "0     DB01006  \n",
       "2     DB01006  \n",
       "3     DB01006  \n",
       "6     DB01259  \n",
       "8     DB01259  "
      ]
     },
     "metadata": {},
     "output_type": "display_data"
    }
   ],
   "source": [
    "# --- 6. Apply Synonym Dictionary to Standardize Drug Names ---\n",
    "\n",
    "print(f\"Applying synonym map to {len(faers_cleaned_df)} rows...\")\n",
    "\n",
    "# Use the .map() function to create a new 'drugbank_id' column.\n",
    "# We map the uppercase drugname to our dictionary.\n",
    "faers_cleaned_df['drugbank_id'] = faers_cleaned_df['drugname'].str.upper().map(drug_synonyms)\n",
    "\n",
    "# --- Verification Step ---\n",
    "mapped_count = faers_cleaned_df['drugbank_id'].notna().sum()\n",
    "total_count = len(faers_cleaned_df)\n",
    "mapping_pct = (mapped_count / total_count) * 100\n",
    "print(f\"Successfully mapped {mapped_count} of {total_count} entries ({mapping_pct:.2f}%).\")\n",
    "\n",
    "# For our final dataset, we'll drop the rows we couldn't map to a standard ID.\n",
    "faers_standardized_df = faers_cleaned_df.dropna(subset=['drugbank_id']).copy()\n",
    "print(f\"Shape of DataFrame after dropping unmapped drugs: {faers_standardized_df.shape}\")\n",
    "\n",
    "display(faers_standardized_df.head())"
   ]
  },
  {
   "cell_type": "code",
   "execution_count": 14,
   "id": "abcee7f5-5a94-4c31-9fa4-2b7b34331e7a",
   "metadata": {},
   "outputs": [
    {
     "name": "stdout",
     "output_type": "stream",
     "text": [
      "--- Building Drug-Indication Dictionary ---\n",
      "\n",
      "--- Applying Indication Filter ---\n",
      "Shape before indication filtering: (6688695, 4)\n",
      "Shape after indication filtering: (6688695, 4)\n"
     ]
    }
   ],
   "source": [
    "# --- 7. Final Cleaning: Remove Reactions That Are Also Indications ---\n",
    "\n",
    "# We already built the drug_to_indications dictionary in a previous cell,\n",
    "# but we will re-create it here for clarity and self-containment of this step.\n",
    "print(\"--- Building Drug-Indication Dictionary ---\")\n",
    "indications_path = DATA_DIR / 'sider_indications.tsv'\n",
    "indications_df = pd.read_csv(indications_path, sep='\\t', header=None, names=['drugbank_id', 'indication_name'])\n",
    "drug_to_indications = indications_df.groupby('drugbank_id')['indication_name'].apply(lambda x: set(x.str.lower())).to_dict()\n",
    "\n",
    "# --- Define the Filtering Function ---\n",
    "def is_likely_treatment_failure(row):\n",
    "    indications = drug_to_indications.get(row['drugbank_id'], set())\n",
    "    return row['reaction'].lower() in indications\n",
    "\n",
    "print(\"\\n--- Applying Indication Filter ---\")\n",
    "print(f\"Shape before indication filtering: {faers_standardized_df.shape}\")\n",
    "\n",
    "# Apply the function to get a boolean Series\n",
    "is_failure = faers_standardized_df.apply(is_likely_treatment_failure, axis=1)\n",
    "\n",
    "# Keep only the rows where the reaction is NOT a likely treatment failure\n",
    "final_df = faers_standardized_df[~is_failure].copy()\n",
    "print(f\"Shape after indication filtering: {final_df.shape}\")"
   ]
  },
  {
   "cell_type": "code",
   "execution_count": 15,
   "id": "e020541b-ed92-42a9-9867-115f6b133b2d",
   "metadata": {},
   "outputs": [
    {
     "name": "stdout",
     "output_type": "stream",
     "text": [
      "--- Creating the final drug-reaction edge list ---\n",
      "Final edge list created with 318666 unique drug-ADR relationships.\n",
      "This DataFrame is now ready for graph construction.\n"
     ]
    },
    {
     "data": {
      "text/html": [
       "<div>\n",
       "<style scoped>\n",
       "    .dataframe tbody tr th:only-of-type {\n",
       "        vertical-align: middle;\n",
       "    }\n",
       "\n",
       "    .dataframe tbody tr th {\n",
       "        vertical-align: top;\n",
       "    }\n",
       "\n",
       "    .dataframe thead th {\n",
       "        text-align: right;\n",
       "    }\n",
       "</style>\n",
       "<table border=\"1\" class=\"dataframe\">\n",
       "  <thead>\n",
       "    <tr style=\"text-align: right;\">\n",
       "      <th></th>\n",
       "      <th>drugbank_id</th>\n",
       "      <th>reaction</th>\n",
       "    </tr>\n",
       "  </thead>\n",
       "  <tbody>\n",
       "    <tr>\n",
       "      <th>0</th>\n",
       "      <td>DB01006</td>\n",
       "      <td>Asthenia</td>\n",
       "    </tr>\n",
       "    <tr>\n",
       "      <th>1</th>\n",
       "      <td>DB01006</td>\n",
       "      <td>Palmar-plantar erythrodysaesthesia syndrome</td>\n",
       "    </tr>\n",
       "    <tr>\n",
       "      <th>2</th>\n",
       "      <td>DB01006</td>\n",
       "      <td>Metastases to liver</td>\n",
       "    </tr>\n",
       "    <tr>\n",
       "      <th>3</th>\n",
       "      <td>DB01259</td>\n",
       "      <td>Asthenia</td>\n",
       "    </tr>\n",
       "    <tr>\n",
       "      <th>4</th>\n",
       "      <td>DB01259</td>\n",
       "      <td>Palmar-plantar erythrodysaesthesia syndrome</td>\n",
       "    </tr>\n",
       "  </tbody>\n",
       "</table>\n",
       "</div>"
      ],
      "text/plain": [
       "  drugbank_id                                     reaction\n",
       "0     DB01006                                     Asthenia\n",
       "1     DB01006  Palmar-plantar erythrodysaesthesia syndrome\n",
       "2     DB01006                          Metastases to liver\n",
       "3     DB01259                                     Asthenia\n",
       "4     DB01259  Palmar-plantar erythrodysaesthesia syndrome"
      ]
     },
     "metadata": {},
     "output_type": "display_data"
    }
   ],
   "source": [
    "# --- 8. Create Final Edge List for the Knowledge Graph ---\n",
    "\n",
    "print(\"--- Creating the final drug-reaction edge list ---\")\n",
    "# We only need the standardized drug ID and the reaction name.\n",
    "# We drop duplicates to get a unique set of relationships found in the data.\n",
    "edge_list_df = final_df[['drugbank_id', 'reaction']].drop_duplicates().reset_index(drop=True)\n",
    "\n",
    "print(f\"Final edge list created with {len(edge_list_df)} unique drug-ADR relationships.\")\n",
    "print(\"This DataFrame is now ready for graph construction.\")\n",
    "display(edge_list_df.head())"
   ]
  },
  {
   "cell_type": "code",
   "execution_count": 16,
   "id": "ffc68d92-15ca-4d0b-9d3b-6010d5a7de69",
   "metadata": {},
   "outputs": [
    {
     "name": "stdout",
     "output_type": "stream",
     "text": [
      "--- Saving the final edge list to a CSV file... ---\n",
      "Successfully saved to: data\\drug_adr_edge_list.csv\n"
     ]
    }
   ],
   "source": [
    "# --- 9. Save Final Edge List to File ---\n",
    "\n",
    "print(\"--- Saving the final edge list to a CSV file... ---\")\n",
    "output_path = DATA_DIR / 'drug_adr_edge_list.csv'\n",
    "\n",
    "edge_list_df.to_csv(output_path, index=False)\n",
    "\n",
    "print(f\"Successfully saved to: {output_path}\")"
   ]
  },
  {
   "cell_type": "code",
   "execution_count": null,
   "id": "0ccab2d3-cd82-4bba-9308-dac520569098",
   "metadata": {},
   "outputs": [],
   "source": []
  }
 ],
 "metadata": {
  "kernelspec": {
   "display_name": "Python 3 (ipykernel)",
   "language": "python",
   "name": "python3"
  },
  "language_info": {
   "codemirror_mode": {
    "name": "ipython",
    "version": 3
   },
   "file_extension": ".py",
   "mimetype": "text/x-python",
   "name": "python",
   "nbconvert_exporter": "python",
   "pygments_lexer": "ipython3",
   "version": "3.11.13"
  }
 },
 "nbformat": 4,
 "nbformat_minor": 5
}
